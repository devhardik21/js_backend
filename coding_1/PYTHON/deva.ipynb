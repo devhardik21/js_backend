{
 "cells": [
  {
   "cell_type": "code",
   "execution_count": 8,
   "metadata": {},
   "outputs": [
    {
     "name": "stdout",
     "output_type": "stream",
     "text": [
      "['this is ', ' hardik ']\n",
      "['50', '60']\n",
      "34 <class 'str'>\n",
      "6\n"
     ]
    }
   ],
   "source": [
    "a = \"this is , hardik \"\n",
    "print(a.split(sep=\",\"))\n",
    "a = \"50,60\"\n",
    "print(a.split(sep=\",\"))\n",
    "\n",
    "i= input('give your numbers with a comma seperated')\n",
    "x,y =(i.split(sep=\",\"))\n",
    "print(x,type(x))\n",
    "print(y)\n"
   ]
  },
  {
   "cell_type": "code",
   "execution_count": 18,
   "metadata": {},
   "outputs": [
    {
     "name": "stdout",
     "output_type": "stream",
     "text": [
      "0\n",
      "1\n",
      "43\n",
      "43\n",
      "[10, 30, 40]\n"
     ]
    }
   ],
   "source": [
    "print(0&5)\n",
    "print(5&3)\n",
    "print(0|43)\n",
    "print(43|0)\n",
    "a = list((10,30,40)) \n",
    "print(a)"
   ]
  },
  {
   "cell_type": "code",
   "execution_count": 7,
   "metadata": {},
   "outputs": [
    {
     "name": "stdout",
     "output_type": "stream",
     "text": [
      "[1, 2, 3]\n",
      "[10, 20, 30, 40, 50, 60] 6\n",
      "[23, 4, 5, 678, 89] <class 'list'>\n",
      "(23, 4, 5, 678, 89) <class 'tuple'>\n"
     ]
    }
   ],
   "source": [
    "#end sem \n",
    "l1 = [1,2,3] \n",
    "print(l1)\n",
    "l2 = list((10,20,30,40,50,60)) \n",
    "print(l2,len(l2))\n",
    "# str = input(\"enter numbers seperated by , \")\n",
    "# l3 = str.split(sep =\",\")\n",
    "# print(l3, type(l3))\n",
    "#eval\n",
    "string = \"[23,4,5,678,89]\"\n",
    "l4 = eval(string)\n",
    "print(l4,type(l4))\n",
    "string2 = \"(23,4,5,678,89)\"\n",
    "tup = eval(string2)\n",
    "print(tup,type(tup))"
   ]
  },
  {
   "cell_type": "code",
   "execution_count": 9,
   "metadata": {},
   "outputs": [
    {
     "name": "stdout",
     "output_type": "stream",
     "text": [
      "() <class 'tuple'>\n",
      "(10, 15, 20, 25, 30) <class 'tuple'>\n",
      "(50,) <class 'tuple'>\n",
      "(1, 23, 'a', 'ab')\n"
     ]
    }
   ],
   "source": [
    "#tuple \n",
    "t1 =  ()\n",
    "print(t1,type(t1))\n",
    "t2 = (10,15,20,25,30)\n",
    "print(t2,type(t2))\n",
    "#for one element tuple \n",
    "t3 = (50,)\n",
    "print(t3,type(t3))\n",
    "li = [1,23,\"a\",\"ab\"]\n",
    "tup = tuple(li)\n",
    "print(tup)"
   ]
  },
  {
   "cell_type": "code",
   "execution_count": 18,
   "metadata": {},
   "outputs": [
    {
     "name": "stdout",
     "output_type": "stream",
     "text": [
      "1 2 3 4 5 6 7 8 9 10 \n",
      "0 1 2 3 4 5 6 7 8 9 "
     ]
    }
   ],
   "source": [
    "#traversing a tuple \n",
    "tup = tuple(range(1,11))\n",
    "for x in tup :\n",
    "    print(x, end=\" \")\n",
    "i = 0 \n",
    "print(\"\")\n",
    "while i<len(tup):\n",
    "    print(i,end=\" \")\n",
    "    i=i+1\n",
    "\n"
   ]
  },
  {
   "cell_type": "code",
   "execution_count": 19,
   "metadata": {},
   "outputs": [
    {
     "name": "stdout",
     "output_type": "stream",
     "text": [
      "(1, 2, 4)\n",
      "1 2 4\n",
      "(1, 2, 4)\n"
     ]
    }
   ],
   "source": [
    "#packing and unpacking \n",
    "t4 = (1,2,4)\n",
    "print(t4)\n",
    "a,b,c = t4\n",
    "print(a,b,c)\n",
    "t5 = (a,b,c)\n",
    "print(t5)"
   ]
  },
  {
   "cell_type": "code",
   "execution_count": 22,
   "metadata": {},
   "outputs": [
    {
     "name": "stdout",
     "output_type": "stream",
     "text": [
      "(1, 2, 3, 4, 5, 6, 7, 8, 9, 10)\n",
      "(2, 4, 6, 8, 10)\n",
      "(0, 2, 0, 4, 0, 6, 0, 8, 0, 10)\n"
     ]
    }
   ],
   "source": [
    "#tuple comprehension \n",
    "tup = tuple(range(1,11)) \n",
    "#syntax-1  \n",
    "t2 = tuple(x for x in tup) \n",
    "print(t2)\n",
    "# syntax-2\n",
    "t3 = tuple(x for x in tup if x%2 ==0) \n",
    "print(t3) \n",
    "# syntax - 3\n",
    "t4 = tuple(x if x%2==0 else 0 for x in tup)\n",
    "print(t4)"
   ]
  },
  {
   "cell_type": "code",
   "execution_count": 23,
   "metadata": {},
   "outputs": [
    {
     "name": "stdout",
     "output_type": "stream",
     "text": [
      "{1, 2, 3, 4} <class 'set'>\n"
     ]
    }
   ],
   "source": [
    "s1 = {1,2,3,4}\n",
    "print(s1,type(s1))"
   ]
  },
  {
   "cell_type": "code",
   "execution_count": 33,
   "metadata": {},
   "outputs": [
    {
     "name": "stdout",
     "output_type": "stream",
     "text": [
      "{'111': 'hardik', '112': 'hs', '113': 'ritik'}\n",
      "111\n",
      "hardik\n",
      "112\n",
      "hs\n",
      "113\n",
      "ritik\n",
      "111 112 113 hardik hs ritik \n",
      "('111', 'hardik')\n",
      "('112', 'hs')\n",
      "('113', 'ritik')\n"
     ]
    }
   ],
   "source": [
    "#dictionary \n",
    "dict = {\n",
    "    \"name\" : \"hardik\",\n",
    "    \"rno\" : \"18\",\n",
    "    \"branch\" :\"cse-ds\"\n",
    "}\n",
    "# print(dict,type(dict))\n",
    "d2 = {}\n",
    "# print(d2,type(d2))\n",
    "d2[\"111\"] = \"hardik\"\n",
    "d2[\"112\"] = \"hs\"\n",
    "d2[\"113\"] = \"ritik\"\n",
    "print(d2)\n",
    "\n",
    "\n",
    "#traversing a dictionary \n",
    "for k in d2:\n",
    "    print(k)\n",
    "    print(d2[k])\n",
    "\n",
    "for key in d2.keys() :\n",
    "    print(key,end = \" \")\n",
    "\n",
    "for val in d2.values() :\n",
    "    print(val,end = \" \")\n",
    "print(\"\")\n",
    "for x in d2.items() :\n",
    "    print(x)\n"
   ]
  },
  {
   "cell_type": "code",
   "execution_count": 37,
   "metadata": {},
   "outputs": [
    {
     "name": "stdout",
     "output_type": "stream",
     "text": [
      "{'welcome': 7, 'to': 2, 'hardik': 6, 'shandilya': 9}\n",
      "{'a': 1, 'b': 2, 'c': 3, 'd': 4}\n",
      "{'a': 1, 'b': 'boo', 'c': 3, 'd': 'boo'}\n"
     ]
    }
   ],
   "source": [
    "#syntax-1 \n",
    "lst = [\"welcome\",\"to\",\"hardik\",\"shandilya\"]\n",
    "dict = {k:len(k) for k in lst}\n",
    "print(dict)\n",
    "\n",
    "#syntax - 2 \n",
    "l1=[\"a\",'b','c','d']\n",
    "l2 =[1,2,3,4]\n",
    "dic = {k:v for k,v in zip(l1,l2)}\n",
    "print(dic)\n",
    "d3 = {k:v if v%2==1 else \"boo\" for k,v in zip(l1,l2)}\n",
    "print(d3)                                                                                                                                                                                                                                                                                                                                                                                                                                                                                                              "
   ]
  },
  {
   "cell_type": "code",
   "execution_count": 2,
   "metadata": {},
   "outputs": [
    {
     "name": "stdout",
     "output_type": "stream",
     "text": [
      "Collecting pandasNote: you may need to restart the kernel to use updated packages.\n",
      "\n",
      "  Using cached pandas-2.2.3-cp313-cp313-win_amd64.whl.metadata (19 kB)\n",
      "Collecting numpy>=1.26.0 (from pandas)\n",
      "  Using cached numpy-2.2.1-cp313-cp313-win_amd64.whl.metadata (60 kB)\n",
      "Requirement already satisfied: python-dateutil>=2.8.2 in c:\\users\\lenovo\\appdata\\roaming\\python\\python313\\site-packages (from pandas) (2.9.0.post0)\n",
      "Collecting pytz>=2020.1 (from pandas)\n",
      "  Using cached pytz-2024.2-py2.py3-none-any.whl.metadata (22 kB)\n",
      "Collecting tzdata>=2022.7 (from pandas)\n",
      "  Using cached tzdata-2024.2-py2.py3-none-any.whl.metadata (1.4 kB)\n",
      "Requirement already satisfied: six>=1.5 in c:\\users\\lenovo\\appdata\\roaming\\python\\python313\\site-packages (from python-dateutil>=2.8.2->pandas) (1.16.0)\n",
      "Using cached pandas-2.2.3-cp313-cp313-win_amd64.whl (11.5 MB)\n",
      "Using cached numpy-2.2.1-cp313-cp313-win_amd64.whl (12.6 MB)\n",
      "Using cached pytz-2024.2-py2.py3-none-any.whl (508 kB)\n",
      "Using cached tzdata-2024.2-py2.py3-none-any.whl (346 kB)\n",
      "Installing collected packages: pytz, tzdata, numpy, pandas\n",
      "Successfully installed numpy-2.2.1 pandas-2.2.3 pytz-2024.2 tzdata-2024.2\n"
     ]
    },
    {
     "name": "stderr",
     "output_type": "stream",
     "text": [
      "  WARNING: The scripts f2py.exe and numpy-config.exe are installed in 'c:\\Users\\LENOVO\\AppData\\Local\\Programs\\Python\\Python313\\Scripts' which is not on PATH.\n",
      "  Consider adding this directory to PATH or, if you prefer to suppress this warning, use --no-warn-script-location.\n",
      "\n",
      "[notice] A new release of pip is available: 24.2 -> 24.3.1\n",
      "[notice] To update, run: python.exe -m pip install --upgrade pip\n"
     ]
    }
   ],
   "source": [
    "pip install pandas"
   ]
  },
  {
   "cell_type": "code",
   "execution_count": 9,
   "metadata": {},
   "outputs": [
    {
     "name": "stdout",
     "output_type": "stream",
     "text": [
      "[1, 2, 3, 4]\n",
      "0    1\n",
      "1    2\n",
      "2    3\n",
      "3    4\n",
      "dtype: int64\n",
      "3\n",
      "a    1\n",
      "b    2\n",
      "dtype: int64\n",
      "1\n",
      "0    1\n",
      "1    2\n",
      "2    4\n",
      "dtype: int64\n"
     ]
    }
   ],
   "source": [
    "import pandas as pd\n",
    "l1 = [1,2,3,4]\n",
    "s1 = pd.Series(l1)\n",
    "print(l1)\n",
    "print(s1)\n",
    "print(s1[2])\n",
    "#accessing using own labels \n",
    "l2 = [1,2]\n",
    "s2 = pd.Series(l2,index=[\"a\",\"b\"])\n",
    "print(s2)\n",
    "print(s2['a'])\n",
    "#from a tuple \n",
    "t4 = (1,2,4)\n",
    "s3 = pd.Series(t4)\n",
    "print(s3)"
   ]
  },
  {
   "cell_type": "code",
   "execution_count": 21,
   "metadata": {},
   "outputs": [
    {
     "name": "stdout",
     "output_type": "stream",
     "text": [
      "     name  rno sec\n",
      "0      hs    1   A\n",
      "1  hardik    2   B\n",
      "2    deva    3   C\n"
     ]
    }
   ],
   "source": [
    "#dataframes in python \n",
    "import pandas as pd\n",
    "student ={\n",
    "    \"name\":[\"hs\",\"hardik\",\"deva\",\"rishi\"],\n",
    "    \"rno\" :[1,2,3,4],\n",
    "    \"sec\" :[\"A\",\"B\",\"C\",\"D\"]\n",
    "}\n",
    "#1\n",
    "df1 = pd.DataFrame(student)\n",
    "#print(df1)\n",
    "#2\n",
    "df2 = pd.DataFrame(student,columns=[\"name\",\"rno\"])\n",
    "#print(df2)\n",
    "#3\n",
    "#print(df1.loc[2])\n",
    "#4\n",
    "#print(df1.loc[2,\"name\"])\n",
    "#5\n",
    "#print(df1.loc[[0,1,2]])\n",
    "#6\n",
    "print(df1.loc[0:2])\n"
   ]
  },
  {
   "cell_type": "code",
   "execution_count": 3,
   "metadata": {},
   "outputs": [
    {
     "name": "stdout",
     "output_type": "stream",
     "text": [
      "Requirement already satisfied: matplotlib in c:\\users\\lenovo\\appdata\\local\\programs\\python\\python313\\lib\\site-packages (3.10.0)\n",
      "Requirement already satisfied: contourpy>=1.0.1 in c:\\users\\lenovo\\appdata\\local\\programs\\python\\python313\\lib\\site-packages (from matplotlib) (1.3.1)\n",
      "Requirement already satisfied: cycler>=0.10 in c:\\users\\lenovo\\appdata\\local\\programs\\python\\python313\\lib\\site-packages (from matplotlib) (0.12.1)\n",
      "Requirement already satisfied: fonttools>=4.22.0 in c:\\users\\lenovo\\appdata\\local\\programs\\python\\python313\\lib\\site-packages (from matplotlib) (4.55.3)\n",
      "Requirement already satisfied: kiwisolver>=1.3.1 in c:\\users\\lenovo\\appdata\\local\\programs\\python\\python313\\lib\\site-packages (from matplotlib) (1.4.7)\n",
      "Requirement already satisfied: numpy>=1.23 in c:\\users\\lenovo\\appdata\\local\\programs\\python\\python313\\lib\\site-packages (from matplotlib) (2.2.1)\n",
      "Requirement already satisfied: packaging>=20.0 in c:\\users\\lenovo\\appdata\\roaming\\python\\python313\\site-packages (from matplotlib) (24.2)\n",
      "Requirement already satisfied: pillow>=8 in c:\\users\\lenovo\\appdata\\local\\programs\\python\\python313\\lib\\site-packages (from matplotlib) (11.0.0)\n",
      "Requirement already satisfied: pyparsing>=2.3.1 in c:\\users\\lenovo\\appdata\\local\\programs\\python\\python313\\lib\\site-packages (from matplotlib) (3.2.0)\n",
      "Requirement already satisfied: python-dateutil>=2.7 in c:\\users\\lenovo\\appdata\\roaming\\python\\python313\\site-packages (from matplotlib) (2.9.0.post0)\n",
      "Requirement already satisfied: six>=1.5 in c:\\users\\lenovo\\appdata\\roaming\\python\\python313\\site-packages (from python-dateutil>=2.7->matplotlib) (1.16.0)\n",
      "Note: you may need to restart the kernel to use updated packages.\n"
     ]
    },
    {
     "name": "stderr",
     "output_type": "stream",
     "text": [
      "\n",
      "[notice] A new release of pip is available: 24.2 -> 24.3.1\n",
      "[notice] To update, run: python.exe -m pip install --upgrade pip\n"
     ]
    }
   ],
   "source": [
    "pip install matplotlib"
   ]
  },
  {
   "cell_type": "code",
   "execution_count": 1,
   "metadata": {},
   "outputs": [
    {
     "name": "stdout",
     "output_type": "stream",
     "text": [
      "      Name  Age Department  Salary Joining_Date\n",
      "0    Alice   25         HR   50000   2020-01-15\n",
      "1      Bob   30    Finance   60000   2019-03-12\n",
      "2  Charlie   35         IT   75000   2018-07-25\n",
      "3    David   40  Marketing   90000   2021-06-01\n",
      "4      Eva   28         HR   52000   2020-09-10\n"
     ]
    }
   ],
   "source": [
    "import pandas as pd\n",
    "import matplotlib.pyplot as plt\n",
    "df1 = pd.read_csv(\"sample_pandas_data.csv\")\n",
    "print(df1)\n",
    "#df1.plot(kind='line',x='')"
   ]
  },
  {
   "cell_type": "code",
   "execution_count": 2,
   "metadata": {},
   "outputs": [
    {
     "name": "stdout",
     "output_type": "stream",
     "text": [
      "      Name  Age Department  Salary Joining_Date\n",
      "0    Alice   25         HR   50000   2020-01-15\n",
      "1      Bob   30    Finance   60000   2019-03-12\n",
      "2  Charlie   35         IT   75000   2018-07-25\n",
      "3    David   40  Marketing   90000   2021-06-01\n",
      "4      Eva   28         HR   52000   2020-09-10\n"
     ]
    },
    {
     "data": {
      "image/png": "[encoded data removed]",
      "text/plain": [
       "<Figure size 640x480 with 1 Axes>"
      ]
     },
     "metadata": {},
     "output_type": "display_data"
    }
   ],
   "source": [
    "import pandas as pd\n",
    "import matplotlib.pyplot as plt\n",
    "df1 = pd.read_csv(\"sample_pandas_data.csv\")\n",
    "print(df1)\n",
    "df1.plot(kind='line',x='Age',y='Salary',title='age vs sal')\n",
    "plt.show()"
   ]
  },
  {
   "cell_type": "code",
   "execution_count": 11,
   "metadata": {},
   "outputs": [
    {
     "name": "stdout",
     "output_type": "stream",
     "text": [
      "hello world\n",
      "2.0\n",
      "kidr\n"
     ]
    }
   ],
   "source": [
    "print(\"hello world\")\n",
    "print(4/2)\n",
    "x = \"hardik\"\n",
    "print(x[5:-5:-1])"
   ]
  },
  {
   "cell_type": "code",
   "execution_count": null,
   "metadata": {},
   "outputs": [],
   "source": []
  }
 ],
 "metadata": {
  "kernelspec": {
   "display_name": "Python 3",
   "language": "python",
   "name": "python3"
  },
  "language_info": {
   "codemirror_mode": {
    "name": "ipython",
    "version": 3
   },
   "file_extension": ".py",
   "mimetype": "text/x-python",
   "name": "python",
   "nbconvert_exporter": "python",
   "pygments_lexer": "ipython3",
   "version": "3.13.0"
  }
 },
 "nbformat": 4,
 "nbformat_minor": 2
}
